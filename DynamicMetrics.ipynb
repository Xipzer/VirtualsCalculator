{
 "cells": [
  {
   "metadata": {},
   "cell_type": "markdown",
   "source": [
    "# VIRTUALS PROTOCOL DYNAMIC METRICS\n",
    "\n",
    "To utilise this notebook correctly, the \"user_wallet\", \"agent_token\", \"liquidity_in\", \"buyback_tokens\" and \"sizing\" variables must have their values adjusted appropriately.\n",
    "\n",
    "Using values provided by Virtuals, for their buyback programme (https://dune.com/queries/4598245), this book is able to calculate maximal profit potential for the agents.\n",
    "\n",
    "The thesis is simple: The optimal way to play the programme is to target expected volume on the daily timeframe. We can identify a safe-range to buy, using the average daily buyback volume. From this, we can construct a conservative profitability thesis and execute.\n",
    "\n",
    "DISCLAIMER: This book is basic and should not be used (in isolation) to develop theses for trading the Buyback Programme. It serves as a foundation, and hint, for those looking to develop structured models."
   ],
   "id": "8a77807f92f26ee"
  },
  {
   "metadata": {},
   "cell_type": "code",
   "source": [
    "base_rpc = \"https://base.llamarpc.com\"\n",
    "\n",
    "user_wallet = \"\" # YOUR WALLET ADDRESS\n",
    "\n",
    "weth_token = \"0x4200000000000000000000000000000000000006\"\n",
    "usdc_token = \"0x833589fCD6eDb6E08f4c7C32D4f71b54bdA02913\"\n",
    "agent_token = \"0x98f4779FcCb177A6D856dd1DfD78cd15B7cd2af5\" # AGENT TO ANALYZE\n",
    "virtual_token = \"0x0b3e328455c4059EEb9e3f84b5543F74E24e7E1b\"\n",
    "uniswap_router = \"0x4752ba5dbc23f44d87826276bf6fd6b1c372ad24\"\n",
    "uniswap_factory = \"0x8909Dc15e40173Ff4699343b6eB8132c65e18eC6\""
   ],
   "id": "900fb50b52521f45",
   "outputs": [],
   "execution_count": null
  },
  {
   "metadata": {},
   "cell_type": "code",
   "source": [
    "import json\n",
    "\n",
    "with open(\"./abi/ERC20.json\", \"r\") as file:\n",
    "    erc20_abi = json.load(file)\n",
    "\n",
    "with open(\"./abi/UniswapPool.json\", \"r\") as file:\n",
    "    pool_abi = json.load(file)\n",
    "\n",
    "with open(\"./abi/UniswapRouter.json\", \"r\") as file:\n",
    "    router_abi = json.load(file)\n",
    "\n",
    "with open(\"./abi/UniswapFactory.json\", \"r\") as file:\n",
    "    factory_abi = json.load(file)"
   ],
   "id": "d41fe91b905dd92c",
   "outputs": [],
   "execution_count": null
  },
  {
   "metadata": {},
   "cell_type": "code",
   "source": [
    "from web3 import Web3\n",
    "\n",
    "web3 = Web3(Web3.HTTPProvider(base_rpc))\n",
    "\n",
    "eth_balance = web3.eth.get_balance(user_wallet)\n",
    "\n",
    "virtual_contract = web3.eth.contract(address=virtual_token, abi=erc20_abi)\n",
    "agent_contract = web3.eth.contract(address=agent_token, abi=erc20_abi)\n",
    "\n",
    "virtual_balance = virtual_contract.functions.balanceOf(user_wallet).call()\n",
    "agent_balance = agent_contract.functions.balanceOf(user_wallet).call()\n",
    "\n",
    "agent_ticker = agent_contract.functions.symbol().call()\n",
    "\n",
    "print(\"Wallet Balances:\")\n",
    "print(round(web3.from_wei(eth_balance, 'ether'), 3), \"ETH\")\n",
    "print(round(web3.from_wei(virtual_balance, 'ether'), 3), \"VIRTUAL\")\n",
    "print(round(web3.from_wei(agent_balance, 'ether'), 3), agent_ticker)"
   ],
   "id": "37c2d859fa677a63",
   "outputs": [],
   "execution_count": null
  },
  {
   "metadata": {},
   "cell_type": "code",
   "source": [
    "weth_contract = web3.eth.contract(address=weth_token, abi=erc20_abi)\n",
    "usdc_contract = web3.eth.contract(address=usdc_token, abi=erc20_abi)\n",
    "\n",
    "factory_contract = web3.eth.contract(address=uniswap_factory, abi=factory_abi)\n",
    "liquidity_pool = factory_contract.functions.getPair(weth_token, usdc_token).call()\n",
    "pool_contract = web3.eth.contract(address=liquidity_pool, abi=pool_abi)\n",
    "\n",
    "pool_reserves = pool_contract.functions.getReserves().call()\n",
    "\n",
    "supply_tokens = pool_reserves[0] / 10 ** weth_contract.functions.decimals().call()\n",
    "liquidity_tokens = pool_reserves[1] / 10 ** usdc_contract.functions.decimals().call()\n",
    "\n",
    "weth_price = liquidity_tokens / supply_tokens\n",
    "\n",
    "print(\"WETH QUANTITY: \", round(supply_tokens, 3), \"WETH\")\n",
    "print(\"USDC QUANTITY: \", round(liquidity_tokens, 3), \"USDC\")\n",
    "print(\"WETH PRICE: $\", round(weth_price, 3))"
   ],
   "id": "d9fc3caa9fcfb1fd",
   "outputs": [],
   "execution_count": null
  },
  {
   "metadata": {},
   "cell_type": "code",
   "source": [
    "factory_contract = web3.eth.contract(address=uniswap_factory, abi=factory_abi)\n",
    "\n",
    "liquidity_pool = factory_contract.functions.getPair(virtual_token, weth_token).call()\n",
    "pool_contract = web3.eth.contract(address=liquidity_pool, abi=pool_abi)\n",
    "\n",
    "pool_reserves = pool_contract.functions.getReserves().call()\n",
    "\n",
    "supply_tokens = pool_reserves[0] / 10 ** weth_contract.functions.decimals().call()\n",
    "liquidity_tokens = pool_reserves[1] / 10 ** virtual_contract.functions.decimals().call()\n",
    "\n",
    "virtuals_price = (liquidity_tokens / supply_tokens) * weth_price\n",
    "\n",
    "print(\"WETH QUANTITY: \", round(supply_tokens, 3), \"WETH\")\n",
    "print(\"VIRTUAL QUANTITY: \", round(liquidity_tokens, 3), \"VIRTUAL\")\n",
    "print(\"VIRTUALS PRICE: $\", round(virtuals_price, 3))"
   ],
   "id": "d41a459057775a06",
   "outputs": [],
   "execution_count": null
  },
  {
   "metadata": {},
   "cell_type": "code",
   "source": [
    "liquidity_pool = factory_contract.functions.getPair(agent_token, virtual_token).call()\n",
    "pool_contract = web3.eth.contract(address=liquidity_pool, abi=pool_abi)\n",
    "\n",
    "total_supply = agent_contract.functions.totalSupply().call() / 10 ** agent_contract.functions.decimals().call()\n",
    "pool_reserves = pool_contract.functions.getReserves().call()\n",
    "\n",
    "supply_tokens = pool_reserves[1] / 10 ** agent_contract.functions.decimals().call()\n",
    "liquidity_tokens = pool_reserves[0] / 10 ** virtual_contract.functions.decimals().call()\n",
    "\n",
    "constant_product = supply_tokens * liquidity_tokens\n",
    "\n",
    "token_price = (liquidity_tokens / supply_tokens) * virtuals_price\n",
    "market_cap = token_price * total_supply\n",
    "\n",
    "print(\"VIRTUAL QUANTITY: \", round(liquidity_tokens, 3), \"VIRTUAL\")\n",
    "print(\"AGENT QUANTITY: \", round(supply_tokens, 3), agent_ticker)\n",
    "print(\"AGENT PRICE: $\", token_price)\n",
    "print(\"MARKET CAP: $\", round(market_cap, 3))"
   ],
   "id": "9e6f4a2633591ea7",
   "outputs": [],
   "execution_count": null
  },
  {
   "metadata": {},
   "cell_type": "code",
   "source": [
    "liquidity_in = 250  # BUY\n",
    "\n",
    "liquidity_tokens += liquidity_in\n",
    "\n",
    "supply_out = supply_tokens - (constant_product / liquidity_tokens)\n",
    "supply_tokens = constant_product / liquidity_tokens\n",
    "\n",
    "token_price = (liquidity_tokens / supply_tokens) * virtuals_price\n",
    "market_cap = token_price * total_supply\n",
    "\n",
    "print(\"NEW TOKEN PRICE: $\", token_price)\n",
    "print(\"NEW MARKET CAP: $\", round(market_cap, 3))\n",
    "print()\n",
    "print(\"NEW LIQUIDITY: \", round(liquidity_tokens, 3), \"VIRTUAL\")\n",
    "print(\"NEW LIQUIDITY (USD): $\", round(liquidity_tokens * virtuals_price, 3))\n",
    "print()\n",
    "print(\"TOKENS RECEIVED: \", round(supply_out, 3), agent_ticker)"
   ],
   "id": "a9502110a7c89b3c",
   "outputs": [],
   "execution_count": null
  },
  {
   "metadata": {},
   "cell_type": "code",
   "source": [
    "buyback_tokens = 690344\n",
    "\n",
    "market_cap_old = market_cap"
   ],
   "id": "5e6e6bff45473763",
   "outputs": [],
   "execution_count": null
  },
  {
   "metadata": {},
   "cell_type": "code",
   "source": [
    "daily_buys = buyback_tokens / 30\n",
    "\n",
    "liquidity_buyback_ratio = liquidity_tokens / daily_buys\n",
    "\n",
    "liquidity_tokens += daily_buys\n",
    "supply_tokens = constant_product / liquidity_tokens\n",
    "\n",
    "token_price = (liquidity_tokens / supply_tokens) * virtuals_price\n",
    "market_cap = token_price * total_supply\n",
    "\n",
    "profitability = market_cap / market_cap_old\n",
    "\n",
    "print(\"NEW TOKEN PRICE (DAY): $\", token_price)\n",
    "print(\"NEW MARKET CAP (DAY): $\", round(market_cap, 3))\n",
    "print()\n",
    "print(\"PROFITABILITY: \", round(profitability, 3))\n",
    "print()\n",
    "print(\"LP/BUYBACK RATIO: \", round(liquidity_buyback_ratio, 3))\n",
    "print(\"DAILY BUYS: $\", round(daily_buys * virtuals_price, 3))"
   ],
   "id": "9363207db7ba567d",
   "outputs": [],
   "execution_count": null
  },
  {
   "metadata": {},
   "cell_type": "code",
   "source": [
    "sizing = 250 # LATEST (FUTURE?) POSITION SIZE - EXCLUDING CURRENT BALANCE (CAN BE ZERO I.E. EXISTING ONLY)\n",
    "total_balance = sizing + (float(web3.from_wei(agent_balance, 'ether')) / token_price)\n",
    "\n",
    "print(\"ISOLATED POSITION: \", round(sizing * profitability, 3), \"$VIRTUAL\")\n",
    "print(\"TOTAL POSITION: \", round(total_balance * profitability, 3), \"$VIRTUAL\")"
   ],
   "id": "3fc6ccfc8bb46417",
   "outputs": [],
   "execution_count": null
  }
 ],
 "metadata": {
  "kernelspec": {
   "display_name": "Python 3",
   "language": "python",
   "name": "python3"
  },
  "language_info": {
   "codemirror_mode": {
    "name": "ipython",
    "version": 2
   },
   "file_extension": ".py",
   "mimetype": "text/x-python",
   "name": "python",
   "nbconvert_exporter": "python",
   "pygments_lexer": "ipython2",
   "version": "2.7.6"
  }
 },
 "nbformat": 4,
 "nbformat_minor": 5
}
