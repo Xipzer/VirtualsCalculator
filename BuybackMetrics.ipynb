{
 "cells": [
  {
   "metadata": {},
   "cell_type": "markdown",
   "source": [
    "# VIRTUALS PROTOCOL BUYBACK METRICS\n",
    "\n",
    "This is a calculator book for the Virtuals Protocol Buyback Programme.\n",
    "\n",
    "This book includes basic calculations for liquidity and price action (impact of buys and sells) and calculations that factor details for the Buyback Programme. These can be used to develop a strategy for the 30-day TWAP.\n",
    "\n",
    "DISCLAIMER: This book is basic and should not be used (in isolation) to develop theses for trading the Buyback Programme. It serves as a foundation, and hint, for those looking to develop structured models.\n",
    "\n",
    "HINT: Dynamic data would work much better than static (as per this notebook)."
   ],
   "id": "8a77807f92f26ee"
  },
  {
   "metadata": {},
   "cell_type": "code",
   "source": [
    "ticker = \"$MISATO\"\n",
    "virtuals_price = 3.6\n",
    "\n",
    "total_supply = 1000000000 # Constant for all Virtuals Agents\n",
    "\n",
    "supply_tokens = 49363522 # I.E. $GAME ($VADER, $H1DR4 etc.) Supply in LP Contract\n",
    "liquidity_tokens = 100884 # I.E. $VIRTUAL ($ETH, $USDT etc.) Supply in LP Contract\n",
    "\n",
    "constant_product = supply_tokens * liquidity_tokens\n",
    "\n",
    "token_price = (liquidity_tokens / supply_tokens) * virtuals_price\n",
    "market_cap = token_price * total_supply\n",
    "\n",
    "print(\"TOKEN PRICE: $\", token_price)\n",
    "print(\"MARKET CAP: $\", round(market_cap))"
   ],
   "id": "9e6f4a2633591ea7",
   "outputs": [],
   "execution_count": null
  },
  {
   "metadata": {},
   "cell_type": "code",
   "source": [
    "supply_in = 10000000 # SELL\n",
    "\n",
    "supply_tokens += supply_in\n",
    "\n",
    "liquidity_out = liquidity_tokens - (constant_product / supply_tokens)\n",
    "liquidity_tokens = constant_product / supply_tokens\n",
    "\n",
    "token_price = (liquidity_tokens / supply_tokens) * virtuals_price\n",
    "market_cap = token_price * total_supply\n",
    "\n",
    "print(\"NEW TOKEN PRICE: $\", token_price)\n",
    "print(\"NEW MARKET CAP: $\", round(market_cap))\n",
    "print()\n",
    "print(\"NEW LIQUIDITY: \", liquidity_tokens)\n",
    "print(\"NEW LIQUIDITY (USD): $\", round(liquidity_tokens * virtuals_price))\n",
    "print()\n",
    "print(\"LIQUIDITY RECEIVED: \", liquidity_out)\n",
    "print(\"LIQUIDITY RECEIVED (USD): $\", round(liquidity_out * virtuals_price))"
   ],
   "id": "d21546b534e0b765",
   "outputs": [],
   "execution_count": null
  },
  {
   "metadata": {},
   "cell_type": "code",
   "source": [
    "liquidity_in = 16994.274699536865 # BUY\n",
    "\n",
    "liquidity_tokens += liquidity_in\n",
    "\n",
    "supply_out = supply_tokens - (constant_product / liquidity_tokens)\n",
    "supply_tokens = constant_product / liquidity_tokens\n",
    "\n",
    "token_price = (liquidity_tokens / supply_tokens) * virtuals_price\n",
    "market_cap = token_price * total_supply\n",
    "\n",
    "print(\"NEW TOKEN PRICE: $\", token_price)\n",
    "print(\"NEW MARKET CAP: $\", round(market_cap))\n",
    "print()\n",
    "print(\"NEW LIQUIDITY: \", liquidity_tokens)\n",
    "print(\"NEW LIQUIDITY (USD): $\", round(liquidity_tokens * virtuals_price))\n",
    "print()\n",
    "print(\"TOKENS RECEIVED: \", supply_out, ticker)"
   ],
   "id": "a9502110a7c89b3c",
   "outputs": [],
   "execution_count": null
  },
  {
   "metadata": {},
   "cell_type": "code",
   "source": [
    "target_liquidity_tokens = 200000\n",
    "\n",
    "liquidity_tokens += (target_liquidity_tokens - liquidity_tokens)\n",
    "\n",
    "supply_out = supply_tokens - (constant_product / liquidity_tokens)\n",
    "supply_tokens = constant_product / liquidity_tokens\n",
    "\n",
    "token_price = (liquidity_tokens / supply_tokens) * virtuals_price\n",
    "market_cap = token_price * total_supply\n",
    "\n",
    "print(\"NEW TOKEN PRICE: $\", token_price)\n",
    "print(\"NEW MARKET CAP: $\", round(market_cap))\n",
    "print()\n",
    "print(\"NEW LIQUIDITY: \", liquidity_tokens, ticker)\n",
    "print(\"NEW LIQUIDITY (USD): $\", round(liquidity_tokens * virtuals_price))"
   ],
   "id": "48a182d4a11b5dd",
   "outputs": [],
   "execution_count": null
  },
  {
   "metadata": {},
   "cell_type": "code",
   "source": "buyback_tokens = 690344",
   "id": "5e6e6bff45473763",
   "outputs": [],
   "execution_count": null
  },
  {
   "metadata": {},
   "cell_type": "code",
   "source": [
    "monthly_buys = buyback_tokens\n",
    "\n",
    "liquidity_buyback_ratio = liquidity_tokens / monthly_buys\n",
    "\n",
    "liquidity_tokens += monthly_buys\n",
    "supply_tokens = constant_product / liquidity_tokens\n",
    "\n",
    "token_price = (liquidity_tokens / supply_tokens) * virtuals_price\n",
    "market_cap = token_price * total_supply\n",
    "\n",
    "print(\"NEW TOKEN PRICE (MONTH): $\", token_price)\n",
    "print(\"NEW MARKET CAP (MONTH): $\", round(market_cap))\n",
    "print()\n",
    "print(\"LP/BUYBACK RATIO: \", liquidity_buyback_ratio)\n",
    "print(\"BUYBACK (USD): $\", round(buyback_tokens * virtuals_price))"
   ],
   "id": "19b9c5f2d28346b9",
   "outputs": [],
   "execution_count": null
  },
  {
   "metadata": {},
   "cell_type": "code",
   "source": [
    "daily_buys = buyback_tokens / 30\n",
    "\n",
    "liquidity_buyback_ratio = liquidity_tokens / daily_buys\n",
    "\n",
    "liquidity_tokens += daily_buys\n",
    "supply_tokens = constant_product / liquidity_tokens\n",
    "\n",
    "token_price = (liquidity_tokens / supply_tokens) * virtuals_price\n",
    "market_cap = token_price * total_supply\n",
    "\n",
    "print(\"NEW TOKEN PRICE (DAY): $\", token_price)\n",
    "print(\"NEW MARKET CAP (DAY): $\", round(market_cap))\n",
    "print()\n",
    "print(\"LP/BUYBACK RATIO: \", liquidity_buyback_ratio)\n",
    "print(\"DAILY BUYS: $\", round(daily_buys * virtuals_price))"
   ],
   "id": "9363207db7ba567d",
   "outputs": [],
   "execution_count": null
  },
  {
   "metadata": {},
   "cell_type": "code",
   "source": [
    "weekly_buys = buyback_tokens / 7\n",
    "\n",
    "liquidity_buyback_ratio = liquidity_tokens / weekly_buys\n",
    "\n",
    "liquidity_tokens += weekly_buys\n",
    "supply_tokens = constant_product / liquidity_tokens\n",
    "\n",
    "token_price = (liquidity_tokens / supply_tokens) * virtuals_price\n",
    "market_cap = token_price * total_supply\n",
    "\n",
    "print(\"NEW TOKEN PRICE (WEEK): $\", token_price)\n",
    "print(\"NEW MARKET CAP (WEEK): $\", round(market_cap))\n",
    "print()\n",
    "print(\"LP/BUYBACK RATIO: \", liquidity_buyback_ratio)\n",
    "print(\"DAILY BUYS: $\", round(weekly_buys * virtuals_price))"
   ],
   "id": "2e0c1931ee36802a",
   "outputs": [],
   "execution_count": null
  }
 ],
 "metadata": {
  "kernelspec": {
   "display_name": "Python 3",
   "language": "python",
   "name": "python3"
  },
  "language_info": {
   "codemirror_mode": {
    "name": "ipython",
    "version": 2
   },
   "file_extension": ".py",
   "mimetype": "text/x-python",
   "name": "python",
   "nbconvert_exporter": "python",
   "pygments_lexer": "ipython2",
   "version": "2.7.6"
  }
 },
 "nbformat": 4,
 "nbformat_minor": 5
}
